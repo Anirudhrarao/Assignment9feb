{
 "cells": [
  {
   "cell_type": "markdown",
   "id": "44b565fc",
   "metadata": {},
   "source": [
    "### Solution (1)"
   ]
  },
  {
   "cell_type": "code",
   "execution_count": 19,
   "id": "01bdfb66",
   "metadata": {},
   "outputs": [],
   "source": [
    "class Vehicle:\n",
    "    def __init__(self,name_of_vehicle,max_speed,average_of_vehicle):\n",
    "        self.name_of_vehicle = name_of_vehicle\n",
    "        self.max_speed = max_speed\n",
    "        self.average_of_vehicle = average_of_vehicle"
   ]
  },
  {
   "cell_type": "markdown",
   "id": "fbe61e33",
   "metadata": {},
   "source": [
    "### Solution (2)"
   ]
  },
  {
   "cell_type": "code",
   "execution_count": 20,
   "id": "a070cbc1",
   "metadata": {},
   "outputs": [],
   "source": [
    "class Car(Vehicle):\n",
    "    def seating_capacity(self,capacity):\n",
    "        return f\"{self.name_of_vehicle} has seating capacity: {capacity}\""
   ]
  },
  {
   "cell_type": "code",
   "execution_count": 21,
   "id": "fceae90f",
   "metadata": {},
   "outputs": [],
   "source": [
    "c = Car('Tavera',380,30)"
   ]
  },
  {
   "cell_type": "code",
   "execution_count": 22,
   "id": "47064738",
   "metadata": {},
   "outputs": [
    {
     "data": {
      "text/plain": [
       "'Tavera has seating capacity: 10'"
      ]
     },
     "execution_count": 22,
     "metadata": {},
     "output_type": "execute_result"
    }
   ],
   "source": [
    "c.seating_capacity(10)"
   ]
  },
  {
   "cell_type": "markdown",
   "id": "f1dc30ee",
   "metadata": {},
   "source": [
    "### Solution (3)\n",
    "* A class can derived from more than one superclass or class called as multiple inheritance."
   ]
  },
  {
   "cell_type": "code",
   "execution_count": 23,
   "id": "d7d47f69",
   "metadata": {},
   "outputs": [],
   "source": [
    "class Dad:\n",
    "    def playing_guitar(self):\n",
    "        print('Dad plays guitar very well.')\n",
    "class Mom:\n",
    "    def cooking(self):\n",
    "        print('Mom makes tasty food.')\n",
    "class Child(Dad,Mom):\n",
    "    def play(self):\n",
    "        print('Child play hockey.')"
   ]
  },
  {
   "cell_type": "code",
   "execution_count": 24,
   "id": "18c4e982",
   "metadata": {},
   "outputs": [],
   "source": [
    "ch = Child()"
   ]
  },
  {
   "cell_type": "code",
   "execution_count": 25,
   "id": "649d7d0c",
   "metadata": {},
   "outputs": [
    {
     "name": "stdout",
     "output_type": "stream",
     "text": [
      "Dad plays guitar very well.\n"
     ]
    }
   ],
   "source": [
    "ch.playing_guitar()"
   ]
  },
  {
   "cell_type": "markdown",
   "id": "0821a145",
   "metadata": {},
   "source": [
    "### Solution (4)\n",
    "* For encapsulation we use getter and setter its basically nothing but help you to access private data and mutate the data as well."
   ]
  },
  {
   "cell_type": "code",
   "execution_count": 29,
   "id": "fcfa21ec",
   "metadata": {},
   "outputs": [],
   "source": [
    "class Test:\n",
    "    def __init__(self,age):\n",
    "        self.__age = age\n",
    "    def get_age(self):\n",
    "        return self.__age\n",
    "    def set_age(self,newAge):\n",
    "        self.__age = newAge"
   ]
  },
  {
   "cell_type": "code",
   "execution_count": 30,
   "id": "67db0e6f",
   "metadata": {},
   "outputs": [],
   "source": [
    "t = Test(21)"
   ]
  },
  {
   "cell_type": "code",
   "execution_count": 31,
   "id": "b1e3d0b5",
   "metadata": {},
   "outputs": [
    {
     "data": {
      "text/plain": [
       "21"
      ]
     },
     "execution_count": 31,
     "metadata": {},
     "output_type": "execute_result"
    }
   ],
   "source": [
    "t.get_age()"
   ]
  },
  {
   "cell_type": "code",
   "execution_count": 32,
   "id": "d530ed8c",
   "metadata": {},
   "outputs": [],
   "source": [
    "t.set_age(20)"
   ]
  },
  {
   "cell_type": "code",
   "execution_count": 33,
   "id": "72a31581",
   "metadata": {},
   "outputs": [
    {
     "data": {
      "text/plain": [
       "20"
      ]
     },
     "execution_count": 33,
     "metadata": {},
     "output_type": "execute_result"
    }
   ],
   "source": [
    "t.get_age()"
   ]
  },
  {
   "cell_type": "markdown",
   "id": "f0c89fcf",
   "metadata": {},
   "source": [
    "### Solution (5)\n",
    "* A method overriding is an concept of oops which is nothing but method name will same but the functionality will different."
   ]
  },
  {
   "cell_type": "code",
   "execution_count": 34,
   "id": "74e0671e",
   "metadata": {},
   "outputs": [],
   "source": [
    "class Class1:\n",
    "    def anything(self):\n",
    "        print('I am class1')"
   ]
  },
  {
   "cell_type": "code",
   "execution_count": 35,
   "id": "33215f71",
   "metadata": {},
   "outputs": [],
   "source": [
    "class Class2(Class1):\n",
    "    def anything(self):\n",
    "        print('I am class2')"
   ]
  },
  {
   "cell_type": "code",
   "execution_count": 36,
   "id": "b8973ec7",
   "metadata": {},
   "outputs": [],
   "source": [
    "c2 = Class2()"
   ]
  },
  {
   "cell_type": "code",
   "execution_count": 37,
   "id": "f531976b",
   "metadata": {},
   "outputs": [
    {
     "name": "stdout",
     "output_type": "stream",
     "text": [
      "I am class2\n"
     ]
    }
   ],
   "source": [
    "c2.anything()"
   ]
  },
  {
   "cell_type": "code",
   "execution_count": null,
   "id": "65423e83",
   "metadata": {},
   "outputs": [],
   "source": []
  }
 ],
 "metadata": {
  "kernelspec": {
   "display_name": "Python 3 (ipykernel)",
   "language": "python",
   "name": "python3"
  },
  "language_info": {
   "codemirror_mode": {
    "name": "ipython",
    "version": 3
   },
   "file_extension": ".py",
   "mimetype": "text/x-python",
   "name": "python",
   "nbconvert_exporter": "python",
   "pygments_lexer": "ipython3",
   "version": "3.11.1"
  }
 },
 "nbformat": 4,
 "nbformat_minor": 5
}
